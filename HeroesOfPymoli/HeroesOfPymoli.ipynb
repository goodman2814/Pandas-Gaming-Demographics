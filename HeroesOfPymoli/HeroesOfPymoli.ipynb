{
 "cells": [
  {
   "cell_type": "markdown",
   "metadata": {},
   "source": [
    "### Note\n",
    "* Instructions have been included for each segment. You do not have to follow them exactly, but they are included to help you think through the steps."
   ]
  },
  {
   "cell_type": "code",
   "execution_count": 45,
   "metadata": {},
   "outputs": [
    {
     "data": {
      "text/html": [
       "<div>\n",
       "<style scoped>\n",
       "    .dataframe tbody tr th:only-of-type {\n",
       "        vertical-align: middle;\n",
       "    }\n",
       "\n",
       "    .dataframe tbody tr th {\n",
       "        vertical-align: top;\n",
       "    }\n",
       "\n",
       "    .dataframe thead th {\n",
       "        text-align: right;\n",
       "    }\n",
       "</style>\n",
       "<table border=\"1\" class=\"dataframe\">\n",
       "  <thead>\n",
       "    <tr style=\"text-align: right;\">\n",
       "      <th></th>\n",
       "      <th>Purchase ID</th>\n",
       "      <th>SN</th>\n",
       "      <th>Age</th>\n",
       "      <th>Gender</th>\n",
       "      <th>Item ID</th>\n",
       "      <th>Item Name</th>\n",
       "      <th>Price</th>\n",
       "    </tr>\n",
       "  </thead>\n",
       "  <tbody>\n",
       "    <tr>\n",
       "      <th>0</th>\n",
       "      <td>0</td>\n",
       "      <td>Lisim78</td>\n",
       "      <td>20</td>\n",
       "      <td>Male</td>\n",
       "      <td>108</td>\n",
       "      <td>Extraction, Quickblade Of Trembling Hands</td>\n",
       "      <td>3.53</td>\n",
       "    </tr>\n",
       "    <tr>\n",
       "      <th>1</th>\n",
       "      <td>1</td>\n",
       "      <td>Lisovynya38</td>\n",
       "      <td>40</td>\n",
       "      <td>Male</td>\n",
       "      <td>143</td>\n",
       "      <td>Frenzied Scimitar</td>\n",
       "      <td>1.56</td>\n",
       "    </tr>\n",
       "    <tr>\n",
       "      <th>2</th>\n",
       "      <td>2</td>\n",
       "      <td>Ithergue48</td>\n",
       "      <td>24</td>\n",
       "      <td>Male</td>\n",
       "      <td>92</td>\n",
       "      <td>Final Critic</td>\n",
       "      <td>4.88</td>\n",
       "    </tr>\n",
       "    <tr>\n",
       "      <th>3</th>\n",
       "      <td>3</td>\n",
       "      <td>Chamassasya86</td>\n",
       "      <td>24</td>\n",
       "      <td>Male</td>\n",
       "      <td>100</td>\n",
       "      <td>Blindscythe</td>\n",
       "      <td>3.27</td>\n",
       "    </tr>\n",
       "    <tr>\n",
       "      <th>4</th>\n",
       "      <td>4</td>\n",
       "      <td>Iskosia90</td>\n",
       "      <td>23</td>\n",
       "      <td>Male</td>\n",
       "      <td>131</td>\n",
       "      <td>Fury</td>\n",
       "      <td>1.44</td>\n",
       "    </tr>\n",
       "    <tr>\n",
       "      <th>...</th>\n",
       "      <td>...</td>\n",
       "      <td>...</td>\n",
       "      <td>...</td>\n",
       "      <td>...</td>\n",
       "      <td>...</td>\n",
       "      <td>...</td>\n",
       "      <td>...</td>\n",
       "    </tr>\n",
       "    <tr>\n",
       "      <th>775</th>\n",
       "      <td>775</td>\n",
       "      <td>Aethedru70</td>\n",
       "      <td>21</td>\n",
       "      <td>Female</td>\n",
       "      <td>60</td>\n",
       "      <td>Wolf</td>\n",
       "      <td>3.54</td>\n",
       "    </tr>\n",
       "    <tr>\n",
       "      <th>776</th>\n",
       "      <td>776</td>\n",
       "      <td>Iral74</td>\n",
       "      <td>21</td>\n",
       "      <td>Male</td>\n",
       "      <td>164</td>\n",
       "      <td>Exiled Doomblade</td>\n",
       "      <td>1.63</td>\n",
       "    </tr>\n",
       "    <tr>\n",
       "      <th>777</th>\n",
       "      <td>777</td>\n",
       "      <td>Yathecal72</td>\n",
       "      <td>20</td>\n",
       "      <td>Male</td>\n",
       "      <td>67</td>\n",
       "      <td>Celeste, Incarnation of the Corrupted</td>\n",
       "      <td>3.46</td>\n",
       "    </tr>\n",
       "    <tr>\n",
       "      <th>778</th>\n",
       "      <td>778</td>\n",
       "      <td>Sisur91</td>\n",
       "      <td>7</td>\n",
       "      <td>Male</td>\n",
       "      <td>92</td>\n",
       "      <td>Final Critic</td>\n",
       "      <td>4.19</td>\n",
       "    </tr>\n",
       "    <tr>\n",
       "      <th>779</th>\n",
       "      <td>779</td>\n",
       "      <td>Ennrian78</td>\n",
       "      <td>24</td>\n",
       "      <td>Male</td>\n",
       "      <td>50</td>\n",
       "      <td>Dawn</td>\n",
       "      <td>4.60</td>\n",
       "    </tr>\n",
       "  </tbody>\n",
       "</table>\n",
       "<p>780 rows × 7 columns</p>\n",
       "</div>"
      ],
      "text/plain": [
       "     Purchase ID             SN  Age  Gender  Item ID  \\\n",
       "0              0        Lisim78   20    Male      108   \n",
       "1              1    Lisovynya38   40    Male      143   \n",
       "2              2     Ithergue48   24    Male       92   \n",
       "3              3  Chamassasya86   24    Male      100   \n",
       "4              4      Iskosia90   23    Male      131   \n",
       "..           ...            ...  ...     ...      ...   \n",
       "775          775     Aethedru70   21  Female       60   \n",
       "776          776         Iral74   21    Male      164   \n",
       "777          777     Yathecal72   20    Male       67   \n",
       "778          778        Sisur91    7    Male       92   \n",
       "779          779      Ennrian78   24    Male       50   \n",
       "\n",
       "                                     Item Name  Price  \n",
       "0    Extraction, Quickblade Of Trembling Hands   3.53  \n",
       "1                            Frenzied Scimitar   1.56  \n",
       "2                                 Final Critic   4.88  \n",
       "3                                  Blindscythe   3.27  \n",
       "4                                         Fury   1.44  \n",
       "..                                         ...    ...  \n",
       "775                                       Wolf   3.54  \n",
       "776                           Exiled Doomblade   1.63  \n",
       "777      Celeste, Incarnation of the Corrupted   3.46  \n",
       "778                               Final Critic   4.19  \n",
       "779                                       Dawn   4.60  \n",
       "\n",
       "[780 rows x 7 columns]"
      ]
     },
     "execution_count": 45,
     "metadata": {},
     "output_type": "execute_result"
    }
   ],
   "source": [
    "# Dependencies and Setup\n",
    "import pandas as pd\n",
    "import numpy as ny\n",
    "\n",
    "# File to Load (Remember to Change These)\n",
    "file_to_load = \"Resources/purchase_data.csv\"\n",
    "\n",
    "# Read Purchasing File and store into Pandas data frame\n",
    "purchase_data = pd.read_csv(file_to_load)\n",
    "purchase_data"
   ]
  },
  {
   "cell_type": "markdown",
   "metadata": {},
   "source": [
    "## Player Count"
   ]
  },
  {
   "cell_type": "markdown",
   "metadata": {},
   "source": [
    "* Display the total number of players\n"
   ]
  },
  {
   "cell_type": "code",
   "execution_count": 46,
   "metadata": {},
   "outputs": [
    {
     "data": {
      "text/plain": [
       "576"
      ]
     },
     "execution_count": 46,
     "metadata": {},
     "output_type": "execute_result"
    }
   ],
   "source": [
    "player_count = purchase_data[\"SN\"].unique()\n",
    "total_players = len(player_count)\n",
    "total_players"
   ]
  },
  {
   "cell_type": "code",
   "execution_count": 47,
   "metadata": {},
   "outputs": [
    {
     "data": {
      "text/html": [
       "<div>\n",
       "<style scoped>\n",
       "    .dataframe tbody tr th:only-of-type {\n",
       "        vertical-align: middle;\n",
       "    }\n",
       "\n",
       "    .dataframe tbody tr th {\n",
       "        vertical-align: top;\n",
       "    }\n",
       "\n",
       "    .dataframe thead th {\n",
       "        text-align: right;\n",
       "    }\n",
       "</style>\n",
       "<table border=\"1\" class=\"dataframe\">\n",
       "  <thead>\n",
       "    <tr style=\"text-align: right;\">\n",
       "      <th></th>\n",
       "      <th>Total Players</th>\n",
       "    </tr>\n",
       "  </thead>\n",
       "  <tbody>\n",
       "    <tr>\n",
       "      <th>0</th>\n",
       "      <td>576</td>\n",
       "    </tr>\n",
       "  </tbody>\n",
       "</table>\n",
       "</div>"
      ],
      "text/plain": [
       "   Total Players\n",
       "0            576"
      ]
     },
     "execution_count": 47,
     "metadata": {},
     "output_type": "execute_result"
    }
   ],
   "source": [
    "total_player_df = pd.DataFrame({\"Total Players\": [total_players]})\n",
    "total_player_df"
   ]
  },
  {
   "cell_type": "markdown",
   "metadata": {},
   "source": [
    "## Purchasing Analysis (Total)"
   ]
  },
  {
   "cell_type": "markdown",
   "metadata": {},
   "source": [
    "* Run basic calculations to obtain number of unique items, average price, etc.\n",
    "\n",
    "\n",
    "* Create a summary data frame to hold the results\n",
    "\n",
    "\n",
    "* Optional: give the displayed data cleaner formatting\n",
    "\n",
    "\n",
    "* Display the summary data frame\n"
   ]
  },
  {
   "cell_type": "code",
   "execution_count": 48,
   "metadata": {},
   "outputs": [],
   "source": [
    "item_count = purchase_data['Item Name'].unique()\n",
    "unique_item_total = len(item_count)\n",
    "\n",
    "\n",
    "price_avg = purchase_data['Price'].mean()\n",
    "\n",
    "price_total = purchase_data['Price'].sum()\n",
    "\n",
    "total_purchase = purchase_data['Purchase ID'].count()\n",
    "\n",
    "\n"
   ]
  },
  {
   "cell_type": "code",
   "execution_count": 49,
   "metadata": {
    "scrolled": true
   },
   "outputs": [
    {
     "data": {
      "text/html": [
       "<div>\n",
       "<style scoped>\n",
       "    .dataframe tbody tr th:only-of-type {\n",
       "        vertical-align: middle;\n",
       "    }\n",
       "\n",
       "    .dataframe tbody tr th {\n",
       "        vertical-align: top;\n",
       "    }\n",
       "\n",
       "    .dataframe thead th {\n",
       "        text-align: right;\n",
       "    }\n",
       "</style>\n",
       "<table border=\"1\" class=\"dataframe\">\n",
       "  <thead>\n",
       "    <tr style=\"text-align: right;\">\n",
       "      <th></th>\n",
       "      <th>Number of Unique Items</th>\n",
       "      <th>Average Price</th>\n",
       "      <th>Number of Purchases</th>\n",
       "      <th>Total Revenue</th>\n",
       "    </tr>\n",
       "  </thead>\n",
       "  <tbody>\n",
       "    <tr>\n",
       "      <th>0</th>\n",
       "      <td>179</td>\n",
       "      <td>$3.05</td>\n",
       "      <td>780</td>\n",
       "      <td>$2379.77</td>\n",
       "    </tr>\n",
       "  </tbody>\n",
       "</table>\n",
       "</div>"
      ],
      "text/plain": [
       "   Number of Unique Items Average Price  Number of Purchases Total Revenue\n",
       "0                     179         $3.05                  780      $2379.77"
      ]
     },
     "execution_count": 49,
     "metadata": {},
     "output_type": "execute_result"
    }
   ],
   "source": [
    "purchasing_analysis_df = pd.DataFrame({'Number of Unique Items': [unique_item_total],\n",
    "                                      \"Average Price\": [price_avg],\n",
    "                                      \"Number of Purchases\": [total_purchase],\n",
    "                                      \"Total Revenue\": [price_total]})\n",
    "\n",
    "purchasing_analysis_df[\"Average Price\"] = purchasing_analysis_df[\"Average Price\"].astype('float').map(\"${:.2f}\".format)\n",
    "purchasing_analysis_df[\"Total Revenue\"] = purchasing_analysis_df[\"Total Revenue\"].astype('float').map(\"${:.2f}\".format)\n",
    "\n",
    "purchasing_analysis_df"
   ]
  },
  {
   "cell_type": "markdown",
   "metadata": {},
   "source": [
    "## Gender Demographics"
   ]
  },
  {
   "cell_type": "markdown",
   "metadata": {},
   "source": [
    "* Percentage and Count of Male Players\n",
    "\n",
    "\n",
    "* Percentage and Count of Female Players\n",
    "\n",
    "\n",
    "* Percentage and Count of Other / Non-Disclosed\n",
    "\n",
    "\n"
   ]
  },
  {
   "cell_type": "code",
   "execution_count": 50,
   "metadata": {},
   "outputs": [],
   "source": [
    "# gender_count = purchase_data[\"Gender\"].value_counts()\n",
    "# gender_count.head()"
   ]
  },
  {
   "cell_type": "code",
   "execution_count": 51,
   "metadata": {},
   "outputs": [],
   "source": [
    "#create variables to hold gender data to create new df\n",
    "gender_grouped = purchase_data.groupby([\"Gender\"])\n",
    "gender_count = gender_grouped[\"SN\"].nunique()\n",
    "player_percent = (gender_count/total_players)*100"
   ]
  },
  {
   "cell_type": "code",
   "execution_count": 52,
   "metadata": {
    "scrolled": true
   },
   "outputs": [
    {
     "data": {
      "text/html": [
       "<div>\n",
       "<style scoped>\n",
       "    .dataframe tbody tr th:only-of-type {\n",
       "        vertical-align: middle;\n",
       "    }\n",
       "\n",
       "    .dataframe tbody tr th {\n",
       "        vertical-align: top;\n",
       "    }\n",
       "\n",
       "    .dataframe thead th {\n",
       "        text-align: right;\n",
       "    }\n",
       "</style>\n",
       "<table border=\"1\" class=\"dataframe\">\n",
       "  <thead>\n",
       "    <tr style=\"text-align: right;\">\n",
       "      <th></th>\n",
       "      <th>Total Count</th>\n",
       "      <th>Percentage of Players</th>\n",
       "    </tr>\n",
       "    <tr>\n",
       "      <th>Gender</th>\n",
       "      <th></th>\n",
       "      <th></th>\n",
       "    </tr>\n",
       "  </thead>\n",
       "  <tbody>\n",
       "    <tr>\n",
       "      <th>Male</th>\n",
       "      <td>484</td>\n",
       "      <td>84.03%</td>\n",
       "    </tr>\n",
       "    <tr>\n",
       "      <th>Female</th>\n",
       "      <td>81</td>\n",
       "      <td>14.06%</td>\n",
       "    </tr>\n",
       "    <tr>\n",
       "      <th>Other / Non-Disclosed</th>\n",
       "      <td>11</td>\n",
       "      <td>1.91%</td>\n",
       "    </tr>\n",
       "  </tbody>\n",
       "</table>\n",
       "</div>"
      ],
      "text/plain": [
       "                       Total Count Percentage of Players\n",
       "Gender                                                  \n",
       "Male                           484                84.03%\n",
       "Female                          81                14.06%\n",
       "Other / Non-Disclosed           11                 1.91%"
      ]
     },
     "execution_count": 52,
     "metadata": {},
     "output_type": "execute_result"
    }
   ],
   "source": [
    "#Create df with columns containing our gender information\n",
    "gender_total_df = pd.DataFrame({\"Total Count\": gender_count, \"Percentage of Players\": player_percent})\n",
    "\n",
    "#format the Percentage column correctly\n",
    "gender_total_df[\"Percentage of Players\"] = gender_total_df[\"Percentage of Players\"].map(\"{:.2f}%\".format)\n",
    "\n",
    "#sort the data isn decending order\n",
    "gender_df = gender_total_df.sort_values(\"Total Count\", ascending=False)\n",
    "\n",
    "gender_df"
   ]
  },
  {
   "cell_type": "code",
   "execution_count": 53,
   "metadata": {},
   "outputs": [],
   "source": [
    "#remove the index name to clean up df\n",
    "gender_df.index.name = None"
   ]
  },
  {
   "cell_type": "code",
   "execution_count": 54,
   "metadata": {},
   "outputs": [
    {
     "data": {
      "text/html": [
       "<div>\n",
       "<style scoped>\n",
       "    .dataframe tbody tr th:only-of-type {\n",
       "        vertical-align: middle;\n",
       "    }\n",
       "\n",
       "    .dataframe tbody tr th {\n",
       "        vertical-align: top;\n",
       "    }\n",
       "\n",
       "    .dataframe thead th {\n",
       "        text-align: right;\n",
       "    }\n",
       "</style>\n",
       "<table border=\"1\" class=\"dataframe\">\n",
       "  <thead>\n",
       "    <tr style=\"text-align: right;\">\n",
       "      <th></th>\n",
       "      <th>Total Count</th>\n",
       "      <th>Percentage of Players</th>\n",
       "    </tr>\n",
       "  </thead>\n",
       "  <tbody>\n",
       "    <tr>\n",
       "      <th>Male</th>\n",
       "      <td>484</td>\n",
       "      <td>84.03%</td>\n",
       "    </tr>\n",
       "    <tr>\n",
       "      <th>Female</th>\n",
       "      <td>81</td>\n",
       "      <td>14.06%</td>\n",
       "    </tr>\n",
       "    <tr>\n",
       "      <th>Other / Non-Disclosed</th>\n",
       "      <td>11</td>\n",
       "      <td>1.91%</td>\n",
       "    </tr>\n",
       "  </tbody>\n",
       "</table>\n",
       "</div>"
      ],
      "text/plain": [
       "                       Total Count Percentage of Players\n",
       "Male                           484                84.03%\n",
       "Female                          81                14.06%\n",
       "Other / Non-Disclosed           11                 1.91%"
      ]
     },
     "execution_count": 54,
     "metadata": {},
     "output_type": "execute_result"
    }
   ],
   "source": [
    "gender_df"
   ]
  },
  {
   "cell_type": "markdown",
   "metadata": {},
   "source": [
    "\n",
    "## Purchasing Analysis (Gender)"
   ]
  },
  {
   "cell_type": "markdown",
   "metadata": {},
   "source": [
    "* Run basic calculations to obtain purchase count, avg. purchase price, avg. purchase total per person etc. by gender\n",
    "\n",
    "\n",
    "\n",
    "\n",
    "* Create a summary data frame to hold the results\n",
    "\n",
    "\n",
    "* Optional: give the displayed data cleaner formatting\n",
    "\n",
    "\n",
    "* Display the summary data frame"
   ]
  },
  {
   "cell_type": "code",
   "execution_count": 55,
   "metadata": {},
   "outputs": [
    {
     "data": {
      "text/html": [
       "<style  type=\"text/css\" >\n",
       "</style><table id=\"T_2af0d69a_720a_11eb_822e_acbc3291821d\" ><thead>    <tr>        <th class=\"blank level0\" ></th>        <th class=\"col_heading level0 col0\" >Purchase Count</th>        <th class=\"col_heading level0 col1\" >Average Purchase Price</th>        <th class=\"col_heading level0 col2\" >Total Purchase Price</th>        <th class=\"col_heading level0 col3\" >Avg Total Purchase per Person</th>    </tr></thead><tbody>\n",
       "                <tr>\n",
       "                        <th id=\"T_2af0d69a_720a_11eb_822e_acbc3291821dlevel0_row0\" class=\"row_heading level0 row0\" >Female</th>\n",
       "                        <td id=\"T_2af0d69a_720a_11eb_822e_acbc3291821drow0_col0\" class=\"data row0 col0\" >113</td>\n",
       "                        <td id=\"T_2af0d69a_720a_11eb_822e_acbc3291821drow0_col1\" class=\"data row0 col1\" >$3.20</td>\n",
       "                        <td id=\"T_2af0d69a_720a_11eb_822e_acbc3291821drow0_col2\" class=\"data row0 col2\" >$361.94</td>\n",
       "                        <td id=\"T_2af0d69a_720a_11eb_822e_acbc3291821drow0_col3\" class=\"data row0 col3\" >$4.47</td>\n",
       "            </tr>\n",
       "            <tr>\n",
       "                        <th id=\"T_2af0d69a_720a_11eb_822e_acbc3291821dlevel0_row1\" class=\"row_heading level0 row1\" >Male</th>\n",
       "                        <td id=\"T_2af0d69a_720a_11eb_822e_acbc3291821drow1_col0\" class=\"data row1 col0\" >652</td>\n",
       "                        <td id=\"T_2af0d69a_720a_11eb_822e_acbc3291821drow1_col1\" class=\"data row1 col1\" >$3.02</td>\n",
       "                        <td id=\"T_2af0d69a_720a_11eb_822e_acbc3291821drow1_col2\" class=\"data row1 col2\" >$1,967.64</td>\n",
       "                        <td id=\"T_2af0d69a_720a_11eb_822e_acbc3291821drow1_col3\" class=\"data row1 col3\" >$4.07</td>\n",
       "            </tr>\n",
       "            <tr>\n",
       "                        <th id=\"T_2af0d69a_720a_11eb_822e_acbc3291821dlevel0_row2\" class=\"row_heading level0 row2\" >Other / Non-Disclosed</th>\n",
       "                        <td id=\"T_2af0d69a_720a_11eb_822e_acbc3291821drow2_col0\" class=\"data row2 col0\" >15</td>\n",
       "                        <td id=\"T_2af0d69a_720a_11eb_822e_acbc3291821drow2_col1\" class=\"data row2 col1\" >$3.35</td>\n",
       "                        <td id=\"T_2af0d69a_720a_11eb_822e_acbc3291821drow2_col2\" class=\"data row2 col2\" >$50.19</td>\n",
       "                        <td id=\"T_2af0d69a_720a_11eb_822e_acbc3291821drow2_col3\" class=\"data row2 col3\" >$4.56</td>\n",
       "            </tr>\n",
       "    </tbody></table>"
      ],
      "text/plain": [
       "<pandas.io.formats.style.Styler at 0x7fc95a6e8dc0>"
      ]
     },
     "execution_count": 55,
     "metadata": {},
     "output_type": "execute_result"
    }
   ],
   "source": [
    "# create variables to hold the price informaton\n",
    "#Count purchases by gender\n",
    "purchase_count = gender_grouped[\"Purchase ID\"].count()\n",
    "\n",
    "#Average purchase by gender\n",
    "avg_purchase_price = gender_grouped[\"Price\"].mean()\n",
    "\n",
    "#Total purchases by gender\n",
    "avg_purchase_total = gender_grouped[\"Price\"].sum()\n",
    "\n",
    "#purchase average per person by gender\n",
    "avg_per_person = avg_purchase_total/gender_count\n",
    "\n",
    "#create df ith new info\n",
    "purchase_analysis_gender = pd.DataFrame({\"Purchase Count\": purchase_count,\n",
    "                                         \"Average Purchase Price\": avg_purchase_price,\n",
    "                                         \"Total Purchase Price\": avg_purchase_total,\n",
    "                                         \"Avg Total Purchase per Person\": avg_per_person})\n",
    "\n",
    "#remove index title\n",
    "purchase_analysis_gender.index.name = None\n",
    "\n",
    "#Format the correct collums to show  \n",
    "purchase_analysis_gender.style.format({\"Total Purchase Price\":\"${:,.2f}\",\n",
    "                                       \"Average Purchase Price\":\"${:,.2f}\",\n",
    "                                       \"Avg Total Purchase per Person\":\"${:,.2f}\"})\n",
    "\n",
    "\n",
    "\n"
   ]
  },
  {
   "cell_type": "markdown",
   "metadata": {},
   "source": [
    "## Age Demographics"
   ]
  },
  {
   "cell_type": "markdown",
   "metadata": {},
   "source": [
    "* Establish bins for ages\n",
    "\n",
    "\n",
    "* Categorize the existing players using the age bins. Hint: use pd.cut()\n",
    "\n",
    "\n",
    "* Calculate the numbers and percentages by age group\n",
    "\n",
    "\n",
    "* Create a summary data frame to hold the results\n",
    "\n",
    "\n",
    "* Optional: round the percentage column to two decimal points\n",
    "\n",
    "\n",
    "* Display Age Demographics Table\n"
   ]
  },
  {
   "cell_type": "code",
   "execution_count": 56,
   "metadata": {},
   "outputs": [],
   "source": [
    "#establish bin to hold age\n",
    "age_bin = [0, 9.90, 14.90, 19.90, 24.90, 29.90, 34.90, 39.90, 99999]\n",
    "group_title = ['<10', '10-14', '15-19', '20-24', '25-29', '30-34', '35-39', '40+']"
   ]
  },
  {
   "cell_type": "code",
   "execution_count": 57,
   "metadata": {},
   "outputs": [
    {
     "data": {
      "text/html": [
       "<div>\n",
       "<style scoped>\n",
       "    .dataframe tbody tr th:only-of-type {\n",
       "        vertical-align: middle;\n",
       "    }\n",
       "\n",
       "    .dataframe tbody tr th {\n",
       "        vertical-align: top;\n",
       "    }\n",
       "\n",
       "    .dataframe thead th {\n",
       "        text-align: right;\n",
       "    }\n",
       "</style>\n",
       "<table border=\"1\" class=\"dataframe\">\n",
       "  <thead>\n",
       "    <tr style=\"text-align: right;\">\n",
       "      <th></th>\n",
       "      <th>Total Count</th>\n",
       "      <th>Percentage of Players</th>\n",
       "    </tr>\n",
       "  </thead>\n",
       "  <tbody>\n",
       "    <tr>\n",
       "      <th>&lt;10</th>\n",
       "      <td>17</td>\n",
       "      <td>$2.95</td>\n",
       "    </tr>\n",
       "    <tr>\n",
       "      <th>10-14</th>\n",
       "      <td>22</td>\n",
       "      <td>$3.82</td>\n",
       "    </tr>\n",
       "    <tr>\n",
       "      <th>15-19</th>\n",
       "      <td>107</td>\n",
       "      <td>$18.58</td>\n",
       "    </tr>\n",
       "    <tr>\n",
       "      <th>20-24</th>\n",
       "      <td>258</td>\n",
       "      <td>$44.79</td>\n",
       "    </tr>\n",
       "    <tr>\n",
       "      <th>25-29</th>\n",
       "      <td>77</td>\n",
       "      <td>$13.37</td>\n",
       "    </tr>\n",
       "    <tr>\n",
       "      <th>30-34</th>\n",
       "      <td>52</td>\n",
       "      <td>$9.03</td>\n",
       "    </tr>\n",
       "    <tr>\n",
       "      <th>35-39</th>\n",
       "      <td>31</td>\n",
       "      <td>$5.38</td>\n",
       "    </tr>\n",
       "    <tr>\n",
       "      <th>40+</th>\n",
       "      <td>12</td>\n",
       "      <td>$2.08</td>\n",
       "    </tr>\n",
       "  </tbody>\n",
       "</table>\n",
       "</div>"
      ],
      "text/plain": [
       "       Total Count Percentage of Players\n",
       "<10             17                 $2.95\n",
       "10-14           22                 $3.82\n",
       "15-19          107                $18.58\n",
       "20-24          258                $44.79\n",
       "25-29           77                $13.37\n",
       "30-34           52                 $9.03\n",
       "35-39           31                 $5.38\n",
       "40+             12                 $2.08"
      ]
     },
     "execution_count": 57,
     "metadata": {},
     "output_type": "execute_result"
    }
   ],
   "source": [
    "# Sort age vaules into bins\n",
    "purchase_data[\"Age Group\"] = pd.cut(purchase_data[\"Age\"], age_bin, labels=group_title)\n",
    "purchase_data\n",
    "\n",
    "# group by \"Age Group\"\n",
    "age_group = purchase_data.groupby(\"Age Group\")\n",
    "\n",
    "# count total number of eache age group\n",
    "total_ages = age_group[\"SN\"].nunique()\n",
    "\n",
    "# get percentage of age groups\n",
    "percent_by_age = (total_ages/total_players) * 100\n",
    "\n",
    "#Create a summary data frame to hold the results\n",
    "age_demographics_df = pd.DataFrame({\"Total Count\": total_ages, \"Percentage of Players\": percent_by_age})\n",
    "\n",
    "# round the percentage column to two decimal points\n",
    "age_demographics_df[\"Percentage of Players\"] = age_demographics_df[\"Percentage of Players\"].map(\"${:.2f}\".format)\n",
    "\n",
    "# drop index name\n",
    "age_demographics_df.index.name = None\n",
    "\n",
    "age_demographics_df"
   ]
  },
  {
   "cell_type": "markdown",
   "metadata": {},
   "source": [
    "## Purchasing Analysis (Age)"
   ]
  },
  {
   "cell_type": "markdown",
   "metadata": {},
   "source": [
    "* Bin the purchase_data data frame by age\n",
    "\n",
    "\n",
    "* Run basic calculations to obtain purchase count, avg. purchase price, avg. purchase total per person etc. in the table below\n",
    "\n",
    "\n",
    "* Create a summary data frame to hold the results\n",
    "\n",
    "\n",
    "* Optional: give the displayed data cleaner formatting\n",
    "\n",
    "\n",
    "* Display the summary data frame"
   ]
  },
  {
   "cell_type": "code",
   "execution_count": 58,
   "metadata": {},
   "outputs": [
    {
     "data": {
      "text/html": [
       "<style  type=\"text/css\" >\n",
       "</style><table id=\"T_2c8e527a_720a_11eb_822e_acbc3291821d\" ><thead>    <tr>        <th class=\"blank level0\" ></th>        <th class=\"col_heading level0 col0\" >Purchase Count</th>        <th class=\"col_heading level0 col1\" >Average Purchase Price</th>        <th class=\"col_heading level0 col2\" >Total Purchase Value</th>        <th class=\"col_heading level0 col3\" >Avg Total Purchase per Person</th>    </tr></thead><tbody>\n",
       "                <tr>\n",
       "                        <th id=\"T_2c8e527a_720a_11eb_822e_acbc3291821dlevel0_row0\" class=\"row_heading level0 row0\" ><10</th>\n",
       "                        <td id=\"T_2c8e527a_720a_11eb_822e_acbc3291821drow0_col0\" class=\"data row0 col0\" >23</td>\n",
       "                        <td id=\"T_2c8e527a_720a_11eb_822e_acbc3291821drow0_col1\" class=\"data row0 col1\" >$3.35</td>\n",
       "                        <td id=\"T_2c8e527a_720a_11eb_822e_acbc3291821drow0_col2\" class=\"data row0 col2\" >$77.13</td>\n",
       "                        <td id=\"T_2c8e527a_720a_11eb_822e_acbc3291821drow0_col3\" class=\"data row0 col3\" >$4.54</td>\n",
       "            </tr>\n",
       "            <tr>\n",
       "                        <th id=\"T_2c8e527a_720a_11eb_822e_acbc3291821dlevel0_row1\" class=\"row_heading level0 row1\" >10-14</th>\n",
       "                        <td id=\"T_2c8e527a_720a_11eb_822e_acbc3291821drow1_col0\" class=\"data row1 col0\" >28</td>\n",
       "                        <td id=\"T_2c8e527a_720a_11eb_822e_acbc3291821drow1_col1\" class=\"data row1 col1\" >$2.96</td>\n",
       "                        <td id=\"T_2c8e527a_720a_11eb_822e_acbc3291821drow1_col2\" class=\"data row1 col2\" >$82.78</td>\n",
       "                        <td id=\"T_2c8e527a_720a_11eb_822e_acbc3291821drow1_col3\" class=\"data row1 col3\" >$3.76</td>\n",
       "            </tr>\n",
       "            <tr>\n",
       "                        <th id=\"T_2c8e527a_720a_11eb_822e_acbc3291821dlevel0_row2\" class=\"row_heading level0 row2\" >15-19</th>\n",
       "                        <td id=\"T_2c8e527a_720a_11eb_822e_acbc3291821drow2_col0\" class=\"data row2 col0\" >136</td>\n",
       "                        <td id=\"T_2c8e527a_720a_11eb_822e_acbc3291821drow2_col1\" class=\"data row2 col1\" >$3.04</td>\n",
       "                        <td id=\"T_2c8e527a_720a_11eb_822e_acbc3291821drow2_col2\" class=\"data row2 col2\" >$412.89</td>\n",
       "                        <td id=\"T_2c8e527a_720a_11eb_822e_acbc3291821drow2_col3\" class=\"data row2 col3\" >$3.86</td>\n",
       "            </tr>\n",
       "            <tr>\n",
       "                        <th id=\"T_2c8e527a_720a_11eb_822e_acbc3291821dlevel0_row3\" class=\"row_heading level0 row3\" >20-24</th>\n",
       "                        <td id=\"T_2c8e527a_720a_11eb_822e_acbc3291821drow3_col0\" class=\"data row3 col0\" >365</td>\n",
       "                        <td id=\"T_2c8e527a_720a_11eb_822e_acbc3291821drow3_col1\" class=\"data row3 col1\" >$3.05</td>\n",
       "                        <td id=\"T_2c8e527a_720a_11eb_822e_acbc3291821drow3_col2\" class=\"data row3 col2\" >$1,114.06</td>\n",
       "                        <td id=\"T_2c8e527a_720a_11eb_822e_acbc3291821drow3_col3\" class=\"data row3 col3\" >$4.32</td>\n",
       "            </tr>\n",
       "            <tr>\n",
       "                        <th id=\"T_2c8e527a_720a_11eb_822e_acbc3291821dlevel0_row4\" class=\"row_heading level0 row4\" >25-29</th>\n",
       "                        <td id=\"T_2c8e527a_720a_11eb_822e_acbc3291821drow4_col0\" class=\"data row4 col0\" >101</td>\n",
       "                        <td id=\"T_2c8e527a_720a_11eb_822e_acbc3291821drow4_col1\" class=\"data row4 col1\" >$2.90</td>\n",
       "                        <td id=\"T_2c8e527a_720a_11eb_822e_acbc3291821drow4_col2\" class=\"data row4 col2\" >$293.00</td>\n",
       "                        <td id=\"T_2c8e527a_720a_11eb_822e_acbc3291821drow4_col3\" class=\"data row4 col3\" >$3.81</td>\n",
       "            </tr>\n",
       "            <tr>\n",
       "                        <th id=\"T_2c8e527a_720a_11eb_822e_acbc3291821dlevel0_row5\" class=\"row_heading level0 row5\" >30-34</th>\n",
       "                        <td id=\"T_2c8e527a_720a_11eb_822e_acbc3291821drow5_col0\" class=\"data row5 col0\" >73</td>\n",
       "                        <td id=\"T_2c8e527a_720a_11eb_822e_acbc3291821drow5_col1\" class=\"data row5 col1\" >$2.93</td>\n",
       "                        <td id=\"T_2c8e527a_720a_11eb_822e_acbc3291821drow5_col2\" class=\"data row5 col2\" >$214.00</td>\n",
       "                        <td id=\"T_2c8e527a_720a_11eb_822e_acbc3291821drow5_col3\" class=\"data row5 col3\" >$4.12</td>\n",
       "            </tr>\n",
       "            <tr>\n",
       "                        <th id=\"T_2c8e527a_720a_11eb_822e_acbc3291821dlevel0_row6\" class=\"row_heading level0 row6\" >35-39</th>\n",
       "                        <td id=\"T_2c8e527a_720a_11eb_822e_acbc3291821drow6_col0\" class=\"data row6 col0\" >41</td>\n",
       "                        <td id=\"T_2c8e527a_720a_11eb_822e_acbc3291821drow6_col1\" class=\"data row6 col1\" >$3.60</td>\n",
       "                        <td id=\"T_2c8e527a_720a_11eb_822e_acbc3291821drow6_col2\" class=\"data row6 col2\" >$147.67</td>\n",
       "                        <td id=\"T_2c8e527a_720a_11eb_822e_acbc3291821drow6_col3\" class=\"data row6 col3\" >$4.76</td>\n",
       "            </tr>\n",
       "            <tr>\n",
       "                        <th id=\"T_2c8e527a_720a_11eb_822e_acbc3291821dlevel0_row7\" class=\"row_heading level0 row7\" >40+</th>\n",
       "                        <td id=\"T_2c8e527a_720a_11eb_822e_acbc3291821drow7_col0\" class=\"data row7 col0\" >13</td>\n",
       "                        <td id=\"T_2c8e527a_720a_11eb_822e_acbc3291821drow7_col1\" class=\"data row7 col1\" >$2.94</td>\n",
       "                        <td id=\"T_2c8e527a_720a_11eb_822e_acbc3291821drow7_col2\" class=\"data row7 col2\" >$38.24</td>\n",
       "                        <td id=\"T_2c8e527a_720a_11eb_822e_acbc3291821drow7_col3\" class=\"data row7 col3\" >$3.19</td>\n",
       "            </tr>\n",
       "    </tbody></table>"
      ],
      "text/plain": [
       "<pandas.io.formats.style.Styler at 0x7fc95a4dd0d0>"
      ]
     },
     "execution_count": 58,
     "metadata": {},
     "output_type": "execute_result"
    }
   ],
   "source": [
    "#create variables to hold the price informaton\n",
    "#Count purchases by age\n",
    "age_purchase_count = age_group[\"Purchase ID\"].count()\n",
    "\n",
    "#Average purchase by age\n",
    "age_avg_purchase_price = age_group[\"Price\"].mean()\n",
    "\n",
    "#Total purchases by age\n",
    "age_avg_purchase_total = age_group[\"Price\"].sum()\n",
    "\n",
    "#purchase average per person by age\n",
    "age_avg_per_person = age_avg_purchase_total/total_ages\n",
    "\n",
    "#create df ith new info\n",
    "purchase_analysis_age = pd.DataFrame({\"Purchase Count\": age_purchase_count,\n",
    "                                         \"Average Purchase Price\": age_avg_purchase_price,\n",
    "                                         \"Total Purchase Value\": age_avg_purchase_total,\n",
    "                                         \"Avg Total Purchase per Person\": age_avg_per_person})\n",
    "\n",
    "#remove index title\n",
    "purchase_analysis_age.index.name = None\n",
    "\n",
    "#Format the correct collums to show  \n",
    "purchase_analysis_age.style.format({\"Total Purchase Value\":\"${:,.2f}\",\n",
    "                                       \"Average Purchase Price\":\"${:,.2f}\",\n",
    "                                       \"Avg Total Purchase per Person\":\"${:,.2f}\"})"
   ]
  },
  {
   "cell_type": "markdown",
   "metadata": {},
   "source": [
    "## Top Spenders"
   ]
  },
  {
   "cell_type": "markdown",
   "metadata": {},
   "source": [
    "* Run basic calculations to obtain the results in the table below\n",
    "\n",
    "\n",
    "* Create a summary data frame to hold the results\n",
    "\n",
    "\n",
    "* Sort the total purchase value column in descending order\n",
    "\n",
    "\n",
    "* Optional: give the displayed data cleaner formatting\n",
    "\n",
    "\n",
    "* Display a preview of the summary data frame\n",
    "\n"
   ]
  },
  {
   "cell_type": "code",
   "execution_count": 59,
   "metadata": {},
   "outputs": [
    {
     "data": {
      "text/html": [
       "<style  type=\"text/css\" >\n",
       "</style><table id=\"T_2d5e7c3e_720a_11eb_822e_acbc3291821d\" ><thead>    <tr>        <th class=\"blank level0\" ></th>        <th class=\"col_heading level0 col0\" >Purchase Count</th>        <th class=\"col_heading level0 col1\" >Average Purchase Price</th>        <th class=\"col_heading level0 col2\" >Total Purchase Value</th>    </tr>    <tr>        <th class=\"index_name level0\" >SN</th>        <th class=\"blank\" ></th>        <th class=\"blank\" ></th>        <th class=\"blank\" ></th>    </tr></thead><tbody>\n",
       "                <tr>\n",
       "                        <th id=\"T_2d5e7c3e_720a_11eb_822e_acbc3291821dlevel0_row0\" class=\"row_heading level0 row0\" >Lisosia93</th>\n",
       "                        <td id=\"T_2d5e7c3e_720a_11eb_822e_acbc3291821drow0_col0\" class=\"data row0 col0\" >5</td>\n",
       "                        <td id=\"T_2d5e7c3e_720a_11eb_822e_acbc3291821drow0_col1\" class=\"data row0 col1\" >$3.79</td>\n",
       "                        <td id=\"T_2d5e7c3e_720a_11eb_822e_acbc3291821drow0_col2\" class=\"data row0 col2\" >$18.96</td>\n",
       "            </tr>\n",
       "            <tr>\n",
       "                        <th id=\"T_2d5e7c3e_720a_11eb_822e_acbc3291821dlevel0_row1\" class=\"row_heading level0 row1\" >Idastidru52</th>\n",
       "                        <td id=\"T_2d5e7c3e_720a_11eb_822e_acbc3291821drow1_col0\" class=\"data row1 col0\" >4</td>\n",
       "                        <td id=\"T_2d5e7c3e_720a_11eb_822e_acbc3291821drow1_col1\" class=\"data row1 col1\" >$3.86</td>\n",
       "                        <td id=\"T_2d5e7c3e_720a_11eb_822e_acbc3291821drow1_col2\" class=\"data row1 col2\" >$15.45</td>\n",
       "            </tr>\n",
       "            <tr>\n",
       "                        <th id=\"T_2d5e7c3e_720a_11eb_822e_acbc3291821dlevel0_row2\" class=\"row_heading level0 row2\" >Chamjask73</th>\n",
       "                        <td id=\"T_2d5e7c3e_720a_11eb_822e_acbc3291821drow2_col0\" class=\"data row2 col0\" >3</td>\n",
       "                        <td id=\"T_2d5e7c3e_720a_11eb_822e_acbc3291821drow2_col1\" class=\"data row2 col1\" >$4.61</td>\n",
       "                        <td id=\"T_2d5e7c3e_720a_11eb_822e_acbc3291821drow2_col2\" class=\"data row2 col2\" >$13.83</td>\n",
       "            </tr>\n",
       "            <tr>\n",
       "                        <th id=\"T_2d5e7c3e_720a_11eb_822e_acbc3291821dlevel0_row3\" class=\"row_heading level0 row3\" >Iral74</th>\n",
       "                        <td id=\"T_2d5e7c3e_720a_11eb_822e_acbc3291821drow3_col0\" class=\"data row3 col0\" >4</td>\n",
       "                        <td id=\"T_2d5e7c3e_720a_11eb_822e_acbc3291821drow3_col1\" class=\"data row3 col1\" >$3.40</td>\n",
       "                        <td id=\"T_2d5e7c3e_720a_11eb_822e_acbc3291821drow3_col2\" class=\"data row3 col2\" >$13.62</td>\n",
       "            </tr>\n",
       "            <tr>\n",
       "                        <th id=\"T_2d5e7c3e_720a_11eb_822e_acbc3291821dlevel0_row4\" class=\"row_heading level0 row4\" >Iskadarya95</th>\n",
       "                        <td id=\"T_2d5e7c3e_720a_11eb_822e_acbc3291821drow4_col0\" class=\"data row4 col0\" >3</td>\n",
       "                        <td id=\"T_2d5e7c3e_720a_11eb_822e_acbc3291821drow4_col1\" class=\"data row4 col1\" >$4.37</td>\n",
       "                        <td id=\"T_2d5e7c3e_720a_11eb_822e_acbc3291821drow4_col2\" class=\"data row4 col2\" >$13.10</td>\n",
       "            </tr>\n",
       "    </tbody></table>"
      ],
      "text/plain": [
       "<pandas.io.formats.style.Styler at 0x7fc95a6f0940>"
      ]
     },
     "execution_count": 59,
     "metadata": {},
     "output_type": "execute_result"
    }
   ],
   "source": [
    "#group by screen name\n",
    "\n",
    "sn_group = purchase_data.groupby(\"SN\")\n",
    "\n",
    "#Count purchases by age\n",
    "purchase_count_sn = sn_group[\"Purchase ID\"].count()\n",
    "\n",
    "#Average purchase by age\n",
    "avg_purchase_price_sn = sn_group[\"Price\"].mean()\n",
    "\n",
    "#Total purchases by age\n",
    "total_purchase_sn = sn_group[\"Price\"].sum()\n",
    "\n",
    "#create df ith new info\n",
    "top_spenders_df = pd.DataFrame({\"Purchase Count\": purchase_count_sn,\n",
    "                                \"Average Purchase Price\": avg_purchase_price_sn,\n",
    "                                \"Total Purchase Value\": total_purchase_sn,\n",
    "                                })\n",
    "\n",
    "#sort data to show top 5 spenders\n",
    "sorted_top_spenders_df = top_spenders_df.sort_values([\"Total Purchase Value\"], ascending=False).head()\n",
    "\n",
    "#Format the correct collums to show  \n",
    "sorted_top_spenders_df.style.format({\"Total Purchase Value\":\"${:,.2f}\",\n",
    "                                    \"Average Purchase Price\":\"${:,.2f}\"})"
   ]
  },
  {
   "cell_type": "markdown",
   "metadata": {},
   "source": [
    "## Most Popular Items"
   ]
  },
  {
   "cell_type": "markdown",
   "metadata": {},
   "source": [
    "* Retrieve the Item ID, Item Name, and Item Price columns\n",
    "\n",
    "\n",
    "* Group by Item ID and Item Name. Perform calculations to obtain purchase count, average item price, and total purchase value\n",
    "\n",
    "\n",
    "* Create a summary data frame to hold the results\n",
    "\n",
    "\n",
    "* Sort the purchase count column in descending order\n",
    "\n",
    "\n",
    "* Optional: give the displayed data cleaner formatting\n",
    "\n",
    "\n",
    "* Display a preview of the summary data frame\n",
    "\n"
   ]
  },
  {
   "cell_type": "code",
   "execution_count": 60,
   "metadata": {},
   "outputs": [
    {
     "data": {
      "text/html": [
       "<style  type=\"text/css\" >\n",
       "</style><table id=\"T_2e231724_720a_11eb_822e_acbc3291821d\" ><thead>    <tr>        <th class=\"blank\" ></th>        <th class=\"blank level0\" ></th>        <th class=\"col_heading level0 col0\" >Purchase Count</th>        <th class=\"col_heading level0 col1\" >Item Price</th>        <th class=\"col_heading level0 col2\" >Total Purchase Value</th>    </tr>    <tr>        <th class=\"index_name level0\" >Item ID</th>        <th class=\"index_name level1\" >Item Name</th>        <th class=\"blank\" ></th>        <th class=\"blank\" ></th>        <th class=\"blank\" ></th>    </tr></thead><tbody>\n",
       "                <tr>\n",
       "                        <th id=\"T_2e231724_720a_11eb_822e_acbc3291821dlevel0_row0\" class=\"row_heading level0 row0\" >92</th>\n",
       "                        <th id=\"T_2e231724_720a_11eb_822e_acbc3291821dlevel1_row0\" class=\"row_heading level1 row0\" >Final Critic</th>\n",
       "                        <td id=\"T_2e231724_720a_11eb_822e_acbc3291821drow0_col0\" class=\"data row0 col0\" >13</td>\n",
       "                        <td id=\"T_2e231724_720a_11eb_822e_acbc3291821drow0_col1\" class=\"data row0 col1\" >$4.61</td>\n",
       "                        <td id=\"T_2e231724_720a_11eb_822e_acbc3291821drow0_col2\" class=\"data row0 col2\" >$59.99</td>\n",
       "            </tr>\n",
       "            <tr>\n",
       "                        <th id=\"T_2e231724_720a_11eb_822e_acbc3291821dlevel0_row1\" class=\"row_heading level0 row1\" >178</th>\n",
       "                        <th id=\"T_2e231724_720a_11eb_822e_acbc3291821dlevel1_row1\" class=\"row_heading level1 row1\" >Oathbreaker, Last Hope of the Breaking Storm</th>\n",
       "                        <td id=\"T_2e231724_720a_11eb_822e_acbc3291821drow1_col0\" class=\"data row1 col0\" >12</td>\n",
       "                        <td id=\"T_2e231724_720a_11eb_822e_acbc3291821drow1_col1\" class=\"data row1 col1\" >$4.23</td>\n",
       "                        <td id=\"T_2e231724_720a_11eb_822e_acbc3291821drow1_col2\" class=\"data row1 col2\" >$50.76</td>\n",
       "            </tr>\n",
       "            <tr>\n",
       "                        <th id=\"T_2e231724_720a_11eb_822e_acbc3291821dlevel0_row2\" class=\"row_heading level0 row2\" >145</th>\n",
       "                        <th id=\"T_2e231724_720a_11eb_822e_acbc3291821dlevel1_row2\" class=\"row_heading level1 row2\" >Fiery Glass Crusader</th>\n",
       "                        <td id=\"T_2e231724_720a_11eb_822e_acbc3291821drow2_col0\" class=\"data row2 col0\" >9</td>\n",
       "                        <td id=\"T_2e231724_720a_11eb_822e_acbc3291821drow2_col1\" class=\"data row2 col1\" >$4.58</td>\n",
       "                        <td id=\"T_2e231724_720a_11eb_822e_acbc3291821drow2_col2\" class=\"data row2 col2\" >$41.22</td>\n",
       "            </tr>\n",
       "            <tr>\n",
       "                        <th id=\"T_2e231724_720a_11eb_822e_acbc3291821dlevel0_row3\" class=\"row_heading level0 row3\" >132</th>\n",
       "                        <th id=\"T_2e231724_720a_11eb_822e_acbc3291821dlevel1_row3\" class=\"row_heading level1 row3\" >Persuasion</th>\n",
       "                        <td id=\"T_2e231724_720a_11eb_822e_acbc3291821drow3_col0\" class=\"data row3 col0\" >9</td>\n",
       "                        <td id=\"T_2e231724_720a_11eb_822e_acbc3291821drow3_col1\" class=\"data row3 col1\" >$3.22</td>\n",
       "                        <td id=\"T_2e231724_720a_11eb_822e_acbc3291821drow3_col2\" class=\"data row3 col2\" >$28.99</td>\n",
       "            </tr>\n",
       "            <tr>\n",
       "                        <th id=\"T_2e231724_720a_11eb_822e_acbc3291821dlevel0_row4\" class=\"row_heading level0 row4\" >108</th>\n",
       "                        <th id=\"T_2e231724_720a_11eb_822e_acbc3291821dlevel1_row4\" class=\"row_heading level1 row4\" >Extraction, Quickblade Of Trembling Hands</th>\n",
       "                        <td id=\"T_2e231724_720a_11eb_822e_acbc3291821drow4_col0\" class=\"data row4 col0\" >9</td>\n",
       "                        <td id=\"T_2e231724_720a_11eb_822e_acbc3291821drow4_col1\" class=\"data row4 col1\" >$3.53</td>\n",
       "                        <td id=\"T_2e231724_720a_11eb_822e_acbc3291821drow4_col2\" class=\"data row4 col2\" >$31.77</td>\n",
       "            </tr>\n",
       "    </tbody></table>"
      ],
      "text/plain": [
       "<pandas.io.formats.style.Styler at 0x7fc959f80310>"
      ]
     },
     "execution_count": 60,
     "metadata": {},
     "output_type": "execute_result"
    }
   ],
   "source": [
    "# pull columns with necessary info related to items\n",
    "item_df = purchase_data[[\"Item ID\", \"Item Name\", \"Price\"]]\n",
    "\n",
    "#Group by Item ID and Item Name\n",
    "item_group = item_df.groupby([\"Item ID\", \"Item Name\"])\n",
    "\n",
    "# calculate purchase count\n",
    "item_purchase_count = item_group['Price'].count()\n",
    "\n",
    "# calculate total purchase value\n",
    "item_purchase_value = item_group['Price'].sum()\n",
    "\n",
    "# calculate average item price\n",
    "item_avg_price = item_purchase_value/item_purchase_count\n",
    "\n",
    "#Create df for new calculations\n",
    "popular_items = pd.DataFrame({'Purchase Count': item_purchase_count,\n",
    "                              'Item Price': item_avg_price,\n",
    "                              'Total Purchase Value': item_purchase_value})\n",
    "\n",
    "#Sort items to show top 5 items\n",
    "popular_items_sorted = popular_items.sort_values(['Purchase Count'], ascending=False).head()\n",
    "\n",
    "#clean up formatting\n",
    "popular_items_sorted.style.format({\"Item Price\":\"${:,.2f}\",\n",
    "                                    \"Total Purchase Value\":\"${:,.2f}\"})\n"
   ]
  },
  {
   "cell_type": "markdown",
   "metadata": {},
   "source": [
    "## Most Profitable Items"
   ]
  },
  {
   "cell_type": "markdown",
   "metadata": {},
   "source": [
    "* Sort the above table by total purchase value in descending order\n",
    "\n",
    "\n",
    "* Optional: give the displayed data cleaner formatting\n",
    "\n",
    "\n",
    "* Display a preview of the data frame\n",
    "\n"
   ]
  },
  {
   "cell_type": "code",
   "execution_count": 61,
   "metadata": {
    "scrolled": true
   },
   "outputs": [
    {
     "data": {
      "text/html": [
       "<style  type=\"text/css\" >\n",
       "</style><table id=\"T_2eda6c76_720a_11eb_822e_acbc3291821d\" ><thead>    <tr>        <th class=\"blank\" ></th>        <th class=\"blank level0\" ></th>        <th class=\"col_heading level0 col0\" >Purchase Count</th>        <th class=\"col_heading level0 col1\" >Item Price</th>        <th class=\"col_heading level0 col2\" >Total Purchase Value</th>    </tr>    <tr>        <th class=\"index_name level0\" >Item ID</th>        <th class=\"index_name level1\" >Item Name</th>        <th class=\"blank\" ></th>        <th class=\"blank\" ></th>        <th class=\"blank\" ></th>    </tr></thead><tbody>\n",
       "                <tr>\n",
       "                        <th id=\"T_2eda6c76_720a_11eb_822e_acbc3291821dlevel0_row0\" class=\"row_heading level0 row0\" >92</th>\n",
       "                        <th id=\"T_2eda6c76_720a_11eb_822e_acbc3291821dlevel1_row0\" class=\"row_heading level1 row0\" >Final Critic</th>\n",
       "                        <td id=\"T_2eda6c76_720a_11eb_822e_acbc3291821drow0_col0\" class=\"data row0 col0\" >13</td>\n",
       "                        <td id=\"T_2eda6c76_720a_11eb_822e_acbc3291821drow0_col1\" class=\"data row0 col1\" >$4.61</td>\n",
       "                        <td id=\"T_2eda6c76_720a_11eb_822e_acbc3291821drow0_col2\" class=\"data row0 col2\" >$59.99</td>\n",
       "            </tr>\n",
       "            <tr>\n",
       "                        <th id=\"T_2eda6c76_720a_11eb_822e_acbc3291821dlevel0_row1\" class=\"row_heading level0 row1\" >178</th>\n",
       "                        <th id=\"T_2eda6c76_720a_11eb_822e_acbc3291821dlevel1_row1\" class=\"row_heading level1 row1\" >Oathbreaker, Last Hope of the Breaking Storm</th>\n",
       "                        <td id=\"T_2eda6c76_720a_11eb_822e_acbc3291821drow1_col0\" class=\"data row1 col0\" >12</td>\n",
       "                        <td id=\"T_2eda6c76_720a_11eb_822e_acbc3291821drow1_col1\" class=\"data row1 col1\" >$4.23</td>\n",
       "                        <td id=\"T_2eda6c76_720a_11eb_822e_acbc3291821drow1_col2\" class=\"data row1 col2\" >$50.76</td>\n",
       "            </tr>\n",
       "            <tr>\n",
       "                        <th id=\"T_2eda6c76_720a_11eb_822e_acbc3291821dlevel0_row2\" class=\"row_heading level0 row2\" >82</th>\n",
       "                        <th id=\"T_2eda6c76_720a_11eb_822e_acbc3291821dlevel1_row2\" class=\"row_heading level1 row2\" >Nirvana</th>\n",
       "                        <td id=\"T_2eda6c76_720a_11eb_822e_acbc3291821drow2_col0\" class=\"data row2 col0\" >9</td>\n",
       "                        <td id=\"T_2eda6c76_720a_11eb_822e_acbc3291821drow2_col1\" class=\"data row2 col1\" >$4.90</td>\n",
       "                        <td id=\"T_2eda6c76_720a_11eb_822e_acbc3291821drow2_col2\" class=\"data row2 col2\" >$44.10</td>\n",
       "            </tr>\n",
       "            <tr>\n",
       "                        <th id=\"T_2eda6c76_720a_11eb_822e_acbc3291821dlevel0_row3\" class=\"row_heading level0 row3\" >145</th>\n",
       "                        <th id=\"T_2eda6c76_720a_11eb_822e_acbc3291821dlevel1_row3\" class=\"row_heading level1 row3\" >Fiery Glass Crusader</th>\n",
       "                        <td id=\"T_2eda6c76_720a_11eb_822e_acbc3291821drow3_col0\" class=\"data row3 col0\" >9</td>\n",
       "                        <td id=\"T_2eda6c76_720a_11eb_822e_acbc3291821drow3_col1\" class=\"data row3 col1\" >$4.58</td>\n",
       "                        <td id=\"T_2eda6c76_720a_11eb_822e_acbc3291821drow3_col2\" class=\"data row3 col2\" >$41.22</td>\n",
       "            </tr>\n",
       "            <tr>\n",
       "                        <th id=\"T_2eda6c76_720a_11eb_822e_acbc3291821dlevel0_row4\" class=\"row_heading level0 row4\" >103</th>\n",
       "                        <th id=\"T_2eda6c76_720a_11eb_822e_acbc3291821dlevel1_row4\" class=\"row_heading level1 row4\" >Singed Scalpel</th>\n",
       "                        <td id=\"T_2eda6c76_720a_11eb_822e_acbc3291821drow4_col0\" class=\"data row4 col0\" >8</td>\n",
       "                        <td id=\"T_2eda6c76_720a_11eb_822e_acbc3291821drow4_col1\" class=\"data row4 col1\" >$4.35</td>\n",
       "                        <td id=\"T_2eda6c76_720a_11eb_822e_acbc3291821drow4_col2\" class=\"data row4 col2\" >$34.80</td>\n",
       "            </tr>\n",
       "    </tbody></table>"
      ],
      "text/plain": [
       "<pandas.io.formats.style.Styler at 0x7fc95a6ba790>"
      ]
     },
     "execution_count": 61,
     "metadata": {},
     "output_type": "execute_result"
    }
   ],
   "source": [
    "#Sort items to show top 5 items\n",
    "popular_items_sorted = popular_items.sort_values(['Total Purchase Value'], ascending=False).head()\n",
    "\n",
    "#clean up formatting\n",
    "popular_items_sorted.style.format({\"Item Price\":\"${:,.2f}\",\n",
    "                                    \"Total Purchase Value\":\"${:,.2f}\"})"
   ]
  }
 ],
 "metadata": {
  "anaconda-cloud": {},
  "kernel_info": {
   "name": "python3"
  },
  "kernelspec": {
   "display_name": "Python 3",
   "language": "python",
   "name": "python3"
  },
  "language_info": {
   "codemirror_mode": {
    "name": "ipython",
    "version": 3
   },
   "file_extension": ".py",
   "mimetype": "text/x-python",
   "name": "python",
   "nbconvert_exporter": "python",
   "pygments_lexer": "ipython3",
   "version": "3.8.5"
  },
  "latex_envs": {
   "LaTeX_envs_menu_present": true,
   "autoclose": false,
   "autocomplete": true,
   "bibliofile": "biblio.bib",
   "cite_by": "apalike",
   "current_citInitial": 1,
   "eqLabelWithNumbers": true,
   "eqNumInitial": 1,
   "hotkeys": {
    "equation": "Ctrl-E",
    "itemize": "Ctrl-I"
   },
   "labels_anchors": false,
   "latex_user_defs": false,
   "report_style_numbering": false,
   "user_envs_cfg": false
  },
  "nteract": {
   "version": "0.2.0"
  }
 },
 "nbformat": 4,
 "nbformat_minor": 2
}
